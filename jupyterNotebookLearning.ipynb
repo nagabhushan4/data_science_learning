{
 "cells": [
  {
   "cell_type": "code",
   "execution_count": 2,
   "id": "d6956467",
   "metadata": {
    "scrolled": true
   },
   "outputs": [
    {
     "name": "stdout",
     "output_type": "stream",
     "text": [
      "Hello world\n"
     ]
    }
   ],
   "source": [
    "print('Hello world')"
   ]
  },
  {
   "cell_type": "markdown",
   "id": "48a071bc",
   "metadata": {},
   "source": [
    "# H1"
   ]
  },
  {
   "cell_type": "markdown",
   "id": "eee09222",
   "metadata": {},
   "source": [
    "## H2"
   ]
  },
  {
   "cell_type": "markdown",
   "id": "0754757d",
   "metadata": {},
   "source": [
    "### H3"
   ]
  },
  {
   "cell_type": "markdown",
   "id": "0327521a",
   "metadata": {},
   "source": [
    "**Hello**"
   ]
  },
  {
   "cell_type": "markdown",
   "id": "ca0bb81a",
   "metadata": {},
   "source": [
    "__Hello world__"
   ]
  },
  {
   "cell_type": "markdown",
   "id": "d1c6db03",
   "metadata": {},
   "source": [
    "_Hello_"
   ]
  },
  {
   "cell_type": "markdown",
   "id": "97c5fcc9",
   "metadata": {},
   "source": [
    "*Hello world*"
   ]
  },
  {
   "cell_type": "markdown",
   "id": "53e10386",
   "metadata": {},
   "source": [
    "|First Name|Last Name|\n",
    "|----------|---------|\n",
    "|Nagabhushan|Gudi|\n",
    "|Sebastian|Vettel|"
   ]
  },
  {
   "cell_type": "markdown",
   "id": "6e357254",
   "metadata": {},
   "source": [
    "- 1st Item\n",
    "- 2nd Item"
   ]
  },
  {
   "cell_type": "markdown",
   "id": "8362d354",
   "metadata": {},
   "source": [
    "1. First Item\n",
    "2. Second Item"
   ]
  },
  {
   "cell_type": "markdown",
   "id": "db2810fc",
   "metadata": {},
   "source": [
    "[Google](https://www.google.com)"
   ]
  },
  {
   "cell_type": "code",
   "execution_count": null,
   "id": "dc1eda68",
   "metadata": {},
   "outputs": [],
   "source": []
  }
 ],
 "metadata": {
  "kernelspec": {
   "display_name": "Python 3",
   "language": "python",
   "name": "python3"
  },
  "language_info": {
   "codemirror_mode": {
    "name": "ipython",
    "version": 3
   },
   "file_extension": ".py",
   "mimetype": "text/x-python",
   "name": "python",
   "nbconvert_exporter": "python",
   "pygments_lexer": "ipython3",
   "version": "3.8.8"
  }
 },
 "nbformat": 4,
 "nbformat_minor": 5
}
